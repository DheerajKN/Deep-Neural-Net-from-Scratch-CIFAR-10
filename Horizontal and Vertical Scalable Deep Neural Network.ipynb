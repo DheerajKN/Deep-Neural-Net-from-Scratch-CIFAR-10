{
 "cells": [
  {
   "cell_type": "markdown",
   "metadata": {},
   "source": [
    "<h1 style=\"text-align: center;margin:-7px\">Deep Learning Personal Activity</h1>\n",
    "<h2 style=\"text-align: center;\">Implement Deep Neural Network from scratch that is fully scalable</h2>\n",
    "<h3 style=\"text-align: center;margin:3px\">Student Name: Kollapudi Nagendra Dheeraj</h3>"
   ]
  },
  {
   "cell_type": "code",
   "execution_count": 1,
   "metadata": {},
   "outputs": [],
   "source": [
    "#Basic File and Matrix Vectorized programming imports\n",
    "import pandas as pd\n",
    "import numpy as np\n",
    "\n",
    "#Standard Imports for Doing Train Test Split and Accuracy\n",
    "from sklearn.model_selection import train_test_split\n",
    "from sklearn.metrics import accuracy_score\n",
    "\n",
    "#For Flattening the List and Data Visualization\n",
    "from itertools import cycle, chain\n",
    "\n",
    "#For Visualization\n",
    "import seaborn as sns\n",
    "\n",
    "#For Stochaistic Gradient Descent, where batch_size = 1, we need to get random index of observation for training.\n",
    "import random\n",
    "\n",
    "import matplotlib.pyplot as plt\n",
    "%matplotlib inline"
   ]
  },
  {
   "cell_type": "code",
   "execution_count": 2,
   "metadata": {},
   "outputs": [],
   "source": [
    "def z_normalization(X):\n",
    "    #Calculate the mean - column wise\n",
    "    mean = np.mean(X, axis=0) \n",
    "\n",
    "    #Calculate the standard deviation - column wise\n",
    "    sd = np.std(X, axis=0) \n",
    "\n",
    "    #Implement the formula as shown above:\n",
    "    return (X - mean) / sd"
   ]
  },
  {
   "cell_type": "code",
   "execution_count": 3,
   "metadata": {},
   "outputs": [],
   "source": [
    "def load_blobs_dataset():\n",
    "    # Use pandas to read the CSV file as a dataframe\n",
    "    df = pd.read_csv(\"blobs250.csv\")\n",
    "\n",
    "    # The y values are those labelled 'Class': extract their values\n",
    "    y = df['Class'].values\n",
    "\n",
    "    # The x values are all other columns\n",
    "    del df['Class']   # drop the 'Class' column from the dataframe\n",
    "    X = z_normalization(df.values)     # convert the remaining columns to a numpy array\n",
    "    \n",
    "    #Splitting the whole dataset into 70%-30% for train and test\n",
    "    X_train, X_test, y_train, y_test = train_test_split(X, y, train_size=0.7, shuffle = True)\n",
    "\n",
    "    #Splitting the test dataset into 15%-15% for validation and test\n",
    "    X_test, X_val, y_test, y_val = train_test_split(X_test, y_test, test_size=0.5, shuffle = True)\n",
    "    \n",
    "    return X_train, X_val, X_test, y_train, y_val, y_test"
   ]
  },
  {
   "cell_type": "code",
   "execution_count": 4,
   "metadata": {},
   "outputs": [],
   "source": [
    "def load_moons_dataset():\n",
    "    # Use pandas to read the CSV file as a dataframe\n",
    "    df = pd.read_csv(\"moons400.csv\")\n",
    "\n",
    "    # The y values are those labelled 'Class': extract their values\n",
    "    y = df['Class'].values\n",
    "\n",
    "    # The x values are all other columns\n",
    "    del df['Class']   # drop the 'Class' column from the dataframe\n",
    "    X = z_normalization(df.values)  # convert the remaining columns to a numpy array\n",
    "    \n",
    "    #Splitting the whole dataset into 70%-30% for train and test\n",
    "    X_train, X_test, y_train, y_test = train_test_split(X, y, train_size=0.7, shuffle = True)\n",
    "\n",
    "    #Splitting the test dataset into 15%-15% for validation and test\n",
    "    X_test, X_val, y_test, y_val = train_test_split(X_test, y_test, test_size=0.5, shuffle = True)\n",
    "    \n",
    "    return X_train, X_val, X_test, y_train, y_val, y_test"
   ]
  },
  {
   "cell_type": "code",
   "execution_count": 22,
   "metadata": {},
   "outputs": [],
   "source": [
    "class FullyConnectedNN():\n",
    "    def linear(self, z):\n",
    "        return 0.1 * z\n",
    "    \n",
    "    def derivative_linear(self, z):\n",
    "        return z\n",
    "    \n",
    "    def elu(self, z):\n",
    "        return z if z >= 0 else 0.01*(e^z -1)\n",
    "    \n",
    "    def derivative_elu(self, z):\n",
    "        return 1 if z > 0 else 0.01*np.exp(z)\n",
    "\n",
    "    def relu(self, z):\n",
    "        return np.maximum(0, z)\n",
    "    \n",
    "    def derivative_relu(self, z):\n",
    "        z[z <= 0] = 0\n",
    "        z[z  > 0] = 1\n",
    "        return z\n",
    "    \n",
    "    def sigmoid(self, z):\n",
    "        return 1 / (1 + np.exp(-z))\n",
    "    \n",
    "    def derivative_sigmoid(self, z):\n",
    "        ds = self.sigmoid(z)\n",
    "        return ds * (1 - ds)\n",
    "    \n",
    "    def leaky_relu(self, z):\n",
    "        return np.maximum(0.01 * z, z)\n",
    "        \n",
    "    def derivative_leaky_relu(self, z):\n",
    "        dz = np.ones_like(z)\n",
    "        dz[z < 0] = 0.01\n",
    "        return dz\n",
    "        \n",
    "    def tanh(self, z):\n",
    "        return (np.exp(z) - np.exp(-z)) / (np.exp(z) + np.exp(-z))\n",
    "        \n",
    "    def derivative_tan_h(self, z):\n",
    "        return 1 - np.power(self.tanh(z), 2)\n",
    "    \n",
    "    def __init__(self, layers, layer_activation, learning_rate = 0.0075, num_iterations = 3000):\n",
    "        self.layers = layers\n",
    "        self.layer_activation = layer_activation\n",
    "        self.learning_rate = learning_rate\n",
    "        self.num_iterations = num_iterations\n",
    "        self.epilson = 0.000000000000000001\n",
    "        \n",
    "        self.params = {}\n",
    "        L = len(layers)\n",
    "\n",
    "        for l in range(1, L):\n",
    "            self.params['W' + str(l)] = np.random.randn(self.layers[l], self.layers[l-1])*0.01\n",
    "            self.params['b' + str(l)] = random.uniform(0, 1)\n",
    "    \n",
    "    \n",
    "    def train(self, X, y):\n",
    "        for iter in range(self.num_iterations):\n",
    "            AL, caches = self.forward_prop(X)\n",
    "            cost = self.compute_cost(AL, y)\n",
    "            if iter % 100 == 0:\n",
    "                print(f'Completed {iter}')\n",
    "            gradients = self.backward_prop(AL, y, caches)\n",
    "            self.update_params()\n",
    "            \n",
    "            \n",
    "    def forward_prop(self, X):\n",
    "        caches = []\n",
    "        A = X\n",
    "        L = len(self.params) // 2\n",
    "        \n",
    "        for l in range(1, L+1):\n",
    "            A, cache = self.forward_prop_activation(\n",
    "                A.dot(self.params['W' + str(l)].T)+self.params['b' + str(l)], A, self.params['W' + str(l)], self.params['b' + str(l)], self.layer_activation[l-1])\n",
    "            caches.append(cache)\n",
    "        \n",
    "        return A, caches\n",
    "            \n",
    "    def forward_prop_activation(self, Z, A_prev_f, weights_f, bias, activation):\n",
    "        linear_cache = (A_prev_f, weights_f, bias)\n",
    "        \n",
    "        if activation == \"sigmoid\":\n",
    "            A = self.sigmoid(Z)\n",
    "\n",
    "        elif activation == \"relu\":\n",
    "            A = self.relu(Z)\n",
    "\n",
    "        elif activation == \"elu\":\n",
    "            A = self.elu(Z)\n",
    "            \n",
    "        elif activation == \"leaky_relu\":\n",
    "            A = self.leaky_relu(Z)\n",
    "            \n",
    "        elif activation == \"linear\":\n",
    "            A = self.linear(Z)\n",
    "\n",
    "        elif activation == \"tanh\":\n",
    "            A = self.tanh(Z)\n",
    "            \n",
    "        cache = (linear_cache, Z)\n",
    "        return A, cache\n",
    "           \n",
    "    def compute_cost(self, AL, Y):\n",
    "        m = Y.shape[0]\n",
    "        Y = Y.reshape((m, 1))\n",
    "        cost = (1./m) * (-np.dot(Y,np.log(AL + self.epilson).T) - np.dot(1-Y, np.log(1-AL + self.epilson).T))\n",
    "        return np.squeeze(cost)\n",
    "            \n",
    "    \n",
    "    def backward_prop(self, AL, Y, caches):\n",
    "        self.gradients = {}\n",
    "        L = len(caches)\n",
    "        m = AL.shape[1]\n",
    "        Y = Y.reshape(AL.shape)\n",
    "\n",
    "        dAL = - (np.divide(Y, AL + self.epilson) - np.divide(1 - Y, 1 - AL  +self.epilson))\n",
    "\n",
    "        current_cache = caches[L-1]\n",
    "        self.gradients[\"dA\" + str(L-1)], self.gradients[\"dW\" + str(L)], self.gradients[\"db\" + str(L)] = self.backward_prop_activation(dAL, current_cache, activation = self.layer_activation[L - 1])\n",
    "\n",
    "        for l in reversed(range(L-1)):\n",
    "            current_cache = caches[l]\n",
    "            dA_prev_temp, dW_temp, db_temp = self.backward_prop_activation(\n",
    "                self.gradients[\"dA\" + str(l + 1)], current_cache, activation = self.layer_activation[l])\n",
    "            self.gradients[\"dA\" + str(l)] = dA_prev_temp\n",
    "            self.gradients[\"dW\" + str(l + 1)] = dW_temp\n",
    "            self.gradients[\"db\" + str(l + 1)] = db_temp\n",
    "\n",
    "        return self.gradients\n",
    "            \n",
    "            \n",
    "    def backward_prop_activation(self, dA, cache, activation):\n",
    "        linear_cache, activation_cache = cache\n",
    "    \n",
    "        if activation == \"relu\":\n",
    "            dZ = self.derivative_relu(dA)\n",
    "\n",
    "        elif activation == \"sigmoid\":\n",
    "            dZ = self.derivative_sigmoid(dA)\n",
    "        \n",
    "        elif activation == \"elu\":\n",
    "            dZ = self.derivative_elu(dA)\n",
    "            \n",
    "        elif activation == \"leaky_relu\":\n",
    "            dZ = self.derivative_leaky_relu(dA)\n",
    "            \n",
    "        elif activation == \"linear\":\n",
    "            dZ = self.derivative_linear(dA)\n",
    "\n",
    "        elif activation == \"tanh\":\n",
    "            dZ = self.derivative_tan_h(dA)\n",
    "        \n",
    "        dA_prev, dW, db = self.linear_backward(dZ, linear_cache)\n",
    "        return dA_prev, dW, db\n",
    "        \n",
    "    def linear_backward(self, dZ, cache):\n",
    "        A_prev, W, b = cache\n",
    "        m = A_prev.shape[1]\n",
    "\n",
    "        dW = 1./m * np.dot(dZ.T, A_prev)\n",
    "        db = 1./m * np.sum(dZ, axis = 1, keepdims = True)\n",
    "        dA_prev = np.dot(dZ, W)\n",
    "\n",
    "        return dA_prev, dW, db     \n",
    "        \n",
    "        \n",
    "    def update_params(self):\n",
    "        L = len(self.params) // 2 # number of layers in the neural network\n",
    "\n",
    "        # Update rule for each parameter. Use a for loop.\n",
    "        for l in range(L):\n",
    "            self.params[\"W\" + str(l+1)] -= self.learning_rate * self.gradients[\"dW\" + str(l+1)]\n",
    "            self.params[\"b\" + str(l+1)] -= self.learning_rate * self.gradients[\"db\" + str(l+1)]\n",
    "\n",
    "        return self.params\n",
    "\n",
    "    def predict(self, X):\n",
    "        probas, caches = self.forward_prop(X)\n",
    "        if self.layers[-1] == 1:\n",
    "            return [1 if val > 0.5 else 0 for val in probas]\n",
    "        return probas"
   ]
  },
  {
   "cell_type": "code",
   "execution_count": 23,
   "metadata": {},
   "outputs": [
    {
     "name": "stderr",
     "output_type": "stream",
     "text": [
      "<ipython-input-22-8b8724a6ac16>:107: RuntimeWarning: invalid value encountered in log\n",
      "  cost = (1./m) * (-np.dot(Y,np.log(AL + self.epilson).T) - np.dot(1-Y, np.log(1-AL + self.epilson).T))\n",
      "<ipython-input-22-8b8724a6ac16>:38: RuntimeWarning: overflow encountered in exp\n",
      "  return (np.exp(z) - np.exp(-z)) / (np.exp(z) + np.exp(-z))\n",
      "<ipython-input-22-8b8724a6ac16>:38: RuntimeWarning: invalid value encountered in true_divide\n",
      "  return (np.exp(z) - np.exp(-z)) / (np.exp(z) + np.exp(-z))\n"
     ]
    },
    {
     "name": "stdout",
     "output_type": "stream",
     "text": [
      "Completed 0\n",
      "Completed 100\n",
      "Completed 200\n",
      "Completed 300\n",
      "Completed 400\n",
      "Completed 500\n",
      "Completed 600\n",
      "Completed 700\n",
      "Completed 800\n",
      "Completed 900\n",
      "Completed 1000\n",
      "Completed 1100\n",
      "Completed 1200\n",
      "Completed 1300\n",
      "Completed 1400\n",
      "Completed 1500\n",
      "Completed 1600\n",
      "Completed 1700\n",
      "Completed 1800\n",
      "Completed 1900\n",
      "Completed 2000\n",
      "Completed 2100\n",
      "Completed 2200\n",
      "Completed 2300\n",
      "Completed 2400\n",
      "Completed 2500\n",
      "Completed 2600\n",
      "Completed 2700\n",
      "Completed 2800\n",
      "Completed 2900\n"
     ]
    }
   ],
   "source": [
    "X_train, X_val, X_test, y_train, y_val, y_test = load_blobs_dataset()\n",
    "nn = FullyConnectedNN(layers=[X_train.shape[1], 5, 1], layer_activation=['relu', 'tanh', 'sigmoid'])\n",
    "\n",
    "nn.train(X_train, y_train)"
   ]
  },
  {
   "cell_type": "code",
   "execution_count": 24,
   "metadata": {},
   "outputs": [
    {
     "name": "stdout",
     "output_type": "stream",
     "text": [
      "\n",
      "Accuracy on Train: 0.50235\n",
      "Accuracy on Test: 0.48649\n"
     ]
    }
   ],
   "source": [
    "#Fetching Accuracy on the training set\n",
    "y_predict = nn.predict(np.concatenate((X_train, X_val), axis=0))\n",
    "y_predict\n",
    "print(f\"\\nAccuracy on Train: {accuracy_score(np.concatenate((y_train, y_val), axis=0), y_predict):.5f}\")\n",
    "\n",
    "#Fetching Accuracy on the test set\n",
    "y_predict = nn.predict(X_test)\n",
    "print(f\"Accuracy on Test: {accuracy_score(y_test, y_predict):.5f}\")"
   ]
  },
  {
   "cell_type": "code",
   "execution_count": 25,
   "metadata": {},
   "outputs": [],
   "source": [
    "def unpickle(file):\n",
    "    import pickle\n",
    "    with open(file, 'rb') as fo:\n",
    "        dict = pickle.load(fo, encoding='bytes')\n",
    "    return dict\n",
    "def loadbatch(batchname):\n",
    "    folder = 'cifar-10-batches-py'\n",
    "    batch = unpickle(folder+\"/\"+batchname)\n",
    "    return batch\n",
    "def loadlabelnames():\n",
    "    folder = 'cifar-10-batches-py'\n",
    "    meta = unpickle(folder+\"/\"+'batches.meta')\n",
    "    return meta[b'label_names']"
   ]
  },
  {
   "cell_type": "code",
   "execution_count": 26,
   "metadata": {},
   "outputs": [
    {
     "name": "stdout",
     "output_type": "stream",
     "text": [
      "Number of items in the batch is 4\n",
      "All keys in the batch: dict_keys([b'batch_label', b'labels', b'data', b'filenames'])\n"
     ]
    }
   ],
   "source": [
    "batch1 = loadbatch('data_batch_1')\n",
    "print(\"Number of items in the batch is\", len(batch1))\n",
    "\n",
    "# Display all keys, so we can see the ones we want\n",
    "print('All keys in the batch:', batch1.keys())"
   ]
  },
  {
   "cell_type": "code",
   "execution_count": 27,
   "metadata": {},
   "outputs": [
    {
     "name": "stdout",
     "output_type": "stream",
     "text": [
      "size of data in this batch: 10000 , size of labels: 10000\n"
     ]
    }
   ],
   "source": [
    "data = batch1[b'data']\n",
    "labels = batch1[b'labels']\n",
    "print (\"size of data in this batch:\", len(data), \", size of labels:\", len(labels))\n",
    "\n",
    "names = loadlabelnames()"
   ]
  },
  {
   "cell_type": "code",
   "execution_count": 28,
   "metadata": {},
   "outputs": [
    {
     "name": "stdout",
     "output_type": "stream",
     "text": [
      "1032\n",
      "1030\n"
     ]
    },
    {
     "data": {
      "image/png": "[encoded data removed]",
      "text/plain": [
       "<Figure size 432x288 with 1 Axes>"
      ]
     },
     "metadata": {
      "needs_background": "light"
     },
     "output_type": "display_data"
    },
    {
     "name": "stdout",
     "output_type": "stream",
     "text": [
      "b'bird'\n"
     ]
    },
    {
     "data": {
      "image/png": "[encoded data removed]",
      "text/plain": [
       "<Figure size 432x288 with 1 Axes>"
      ]
     },
     "metadata": {
      "needs_background": "light"
     },
     "output_type": "display_data"
    },
    {
     "name": "stdout",
     "output_type": "stream",
     "text": [
      "b'bird'\n"
     ]
    },
    {
     "data": {
      "image/png": "[encoded data removed]",
      "text/plain": [
       "<Figure size 432x288 with 1 Axes>"
      ]
     },
     "metadata": {
      "needs_background": "light"
     },
     "output_type": "display_data"
    },
    {
     "name": "stdout",
     "output_type": "stream",
     "text": [
      "b'frog'\n"
     ]
    },
    {
     "data": {
      "image/png": "[encoded data removed]",
      "text/plain": [
       "<Figure size 432x288 with 1 Axes>"
      ]
     },
     "metadata": {
      "needs_background": "light"
     },
     "output_type": "display_data"
    },
    {
     "name": "stdout",
     "output_type": "stream",
     "text": [
      "b'frog'\n"
     ]
    }
   ],
   "source": [
    "def visualise(data, index):\n",
    "    # MM Jan 2019: Given a CIFAR data nparray and the index of an image, display the image.\n",
    "    # Note that the images will be quite fuzzy looking, because they are low res (32x32).\n",
    "\n",
    "    picture = data[index]\n",
    "    # Initially, the data is a 1D array of 3072 pixels; reshape it to a 3D array of 3x32x32 pixels\n",
    "    # Note: after reshaping like this, you could select one colour channel or average them.\n",
    "    picture.shape = (3,32,32) \n",
    "    \n",
    "    # Plot.imshow requires the RGB to be the third dimension, not the first, so need to rearrange\n",
    "    picture = picture.transpose([1, 2, 0])\n",
    "    plt.imshow(picture)\n",
    "    plt.show()\n",
    "    \n",
    "# Display a few images from the batch\n",
    "bird_indices=[i for i,x in enumerate(labels) if x == 2]\n",
    "frog_indices=[i for i,x in enumerate(labels) if x == 6]\n",
    "\n",
    "print(len(bird_indices))\n",
    "print(len(frog_indices))\n",
    "\n",
    "indices = np.concatenate((bird_indices, frog_indices), axis = 0)\n",
    "data_frog_bird = data[indices]\n",
    "\n",
    "labels_numpy = np.array(labels)\n",
    "data_frog_bird_labels = labels_numpy[indices]\n",
    "# data_frog_bird_labels = data_frog_bird_labels.reshape(data_frog_bird_labels.shape[0], 1)\n",
    "\n",
    "for i in range(1030, 1034):\n",
    "    visualise(data_frog_bird, i)\n",
    "    print(names[data_frog_bird_labels[i]])"
   ]
  },
  {
   "cell_type": "code",
   "execution_count": 29,
   "metadata": {},
   "outputs": [],
   "source": [
    "from skimage.color import rgb2gray\n",
    "# data_frog_bird = np.array(data_frog_bird[:,0:1024])\n",
    "data_frog_bird_transformed = np.array(rgb2gray(data_frog_bird))"
   ]
  },
  {
   "cell_type": "code",
   "execution_count": 30,
   "metadata": {},
   "outputs": [],
   "source": [
    "X = data_frog_bird_transformed/255\n",
    "\n",
    "category_labelling = {2:0, 6:1}\n",
    "y = np.array([category_labelling[i] for i in data_frog_bird_labels])"
   ]
  },
  {
   "cell_type": "code",
   "execution_count": 33,
   "metadata": {},
   "outputs": [
    {
     "name": "stdout",
     "output_type": "stream",
     "text": [
      "Completed 0\n",
      "Completed 100\n",
      "Completed 200\n",
      "Completed 300\n",
      "Completed 400\n",
      "Completed 500\n"
     ]
    },
    {
     "name": "stderr",
     "output_type": "stream",
     "text": [
      "<ipython-input-22-8b8724a6ac16>:38: RuntimeWarning: overflow encountered in exp\n",
      "  return (np.exp(z) - np.exp(-z)) / (np.exp(z) + np.exp(-z))\n",
      "<ipython-input-22-8b8724a6ac16>:38: RuntimeWarning: invalid value encountered in true_divide\n",
      "  return (np.exp(z) - np.exp(-z)) / (np.exp(z) + np.exp(-z))\n"
     ]
    },
    {
     "name": "stdout",
     "output_type": "stream",
     "text": [
      "Completed 600\n",
      "Completed 700\n",
      "Completed 800\n",
      "Completed 900\n",
      "Completed 1000\n",
      "Completed 1100\n",
      "Completed 1200\n",
      "Completed 1300\n",
      "Completed 1400\n",
      "Completed 1500\n",
      "Completed 1600\n",
      "Completed 1700\n",
      "Completed 1800\n",
      "Completed 1900\n",
      "Completed 2000\n",
      "Completed 2100\n",
      "Completed 2200\n",
      "Completed 2300\n",
      "Completed 2400\n",
      "Completed 2500\n",
      "Completed 2600\n",
      "Completed 2700\n",
      "Completed 2800\n",
      "Completed 2900\n"
     ]
    }
   ],
   "source": [
    "X_train, X_test, y_train, y_test = train_test_split(X, y, test_size=0.3, shuffle = True)\n",
    "\n",
    "nn = FullyConnectedNN(layers=[X_train.shape[1], 6, 4, 1], layer_activation=['relu', 'tanh', 'relu', 'sigmoid'])\n",
    "\n",
    "nn.train(X_train, y_train)"
   ]
  },
  {
   "cell_type": "code",
   "execution_count": 34,
   "metadata": {},
   "outputs": [
    {
     "name": "stdout",
     "output_type": "stream",
     "text": [
      "\n",
      "Accuracy on Train: 0.49688\n",
      "Accuracy on Test: 0.50889\n"
     ]
    }
   ],
   "source": [
    "#Fetching Accuracy on the training set\n",
    "y_predict = nn.predict(X_train)\n",
    "print(f\"\\nAccuracy on Train: {accuracy_score(y_train, y_predict):.5f}\")\n",
    "\n",
    "#Fetching Accuracy on the test set\n",
    "y_predict = nn.predict(X_test)\n",
    "print(f\"Accuracy on Test: {accuracy_score(y_test, y_predict):.5f}\")"
   ]
  },
  {
   "cell_type": "markdown",
   "metadata": {},
   "source": [
    "# 1 Hidden Layer"
   ]
  },
  {
   "cell_type": "code",
   "execution_count": null,
   "metadata": {},
   "outputs": [],
   "source": [
    "class twoLNeuralNet():\n",
    "    def sigmoid(self, z):\n",
    "        return 1 / (1 + np.exp(-z))\n",
    "    \n",
    "    def __init__(self, layers, learning_rate=0.01, max_iters=3000, threshold = 0.000001):\n",
    "        self.layers = layers\n",
    "        self.learning_rate = learning_rate\n",
    "        self.max_iters = max_iters\n",
    "        self.threshold = threshold\n",
    "        self.params = {}\n",
    "        self.costs = []\n",
    "        \n",
    "        self.params['W1'] = np.random.randn(self.layers[1], self.layers[0])*0.01\n",
    "        self.params['b1'] = random.uniform(0, 1)\n",
    "        self.params['W2'] = np.random.randn(self.layers[2], self.layers[1])*0.01\n",
    "        self.params['b2'] = random.uniform(0, 1)\n",
    "        \n",
    "    def train(self, X, y):\n",
    "        y = y.reshape(y.shape[0], 1)\n",
    "        j_prev = 0\n",
    "        for iteration in range(self.max_iters):\n",
    "            z1 = self.forward_prop(self.params['W1'], self.params['b1'], X)\n",
    "            a1 = self.sigmoid(z1)\n",
    "            \n",
    "            z2 = self.forward_prop(self.params['W2'], self.params['b2'], a1)\n",
    "            a2 = self.sigmoid(z2)\n",
    "            \n",
    "            epilson = 0.000000000000000001\n",
    "            \n",
    "            j_curr = self.cost_function(a2, y, epilson)\n",
    "            \n",
    "            dA2 = - (np.divide(y, a2 + epilson) - np.divide(1 - y, 1 - a2 + epilson))\n",
    "            db2, dA1, dW2 = self.back_prop(dA2, z2, a1, self.params['W2'])\n",
    "            db1, dA0, dW1 = self.back_prop(dA1, z1, X, self.params['W1'])\n",
    "            \n",
    "            self.params['W1'] -= self.learning_rate * dW1\n",
    "            self.params['W2'] -= self.learning_rate * dW2\n",
    "            \n",
    "            self.params['b1'] -= self.learning_rate * db1\n",
    "            self.params['b2'] -= self.learning_rate * db2\n",
    "            \n",
    "            if abs(float(j_curr - j_prev)) <= self.threshold:\n",
    "                self.costs.append(j_curr)\n",
    "                print(f'Break out Loss value: {j_curr:.5f}')\n",
    "                break\n",
    "            \n",
    "            if iteration % 100 == 0:\n",
    "                self.costs.append(j_curr)\n",
    "                print(f'Loss at {iteration} iterations: {j_curr:.5f}')\n",
    "            \n",
    "            j_prev = j_curr\n",
    "            \n",
    "    def forward_prop(self, weights, bias, X):\n",
    "        return np.dot(X, weights.T) + bias\n",
    "    \n",
    "    def cost_function(self, a2, y, epilson = 0.000000000000000001):\n",
    "        m = y.shape[0]\n",
    "        cost = (-1/m) * np.sum(np.multiply(y, np.log(a2 + epilson)) + np.multiply(1 - y, np.log(1 - a2 + epilson)))\n",
    "        return np.squeeze(cost)\n",
    "    \n",
    "    def back_prop(self, da, z, a_prev, weights):\n",
    "        activation = self.sigmoid(z)\n",
    "        dZ = da * activation * (1 - activation)\n",
    "        m = a_prev.shape[1]\n",
    "        \n",
    "        dW = (1/m) * np.dot(dZ.T, a_prev)\n",
    "        db = (1/m) * np.sum(dZ)\n",
    "        da_prev = np.dot(dZ, weights)\n",
    "        return db, da_prev, dW\n",
    "    \n",
    "    def predict(self, X):\n",
    "        z1 = self.forward_prop(self.params['W1'], self.params['b1'], X)\n",
    "        a1 = self.sigmoid(z1)\n",
    "            \n",
    "        z2 = self.forward_prop(self.params['W2'], self.params['b2'], a1)\n",
    "        return [1 if val > 0.5 else 0 for val in self.sigmoid(z2)]\n",
    "    \n",
    "    def plot_costs(self):\n",
    "        plt.plot(self.costs)\n",
    "        plt.ylabel('cost')\n",
    "        plt.xlabel('iterations (per hundreds)')\n",
    "        plt.title(\"Learning rate = \" + str(self.learning_rate))\n",
    "        plt.show()"
   ]
  },
  {
   "cell_type": "code",
   "execution_count": null,
   "metadata": {},
   "outputs": [],
   "source": [
    "X_train, X_val, X_test, y_train, y_val, y_test = load_moons_dataset()\n",
    "nn = twoLNeuralNet(layers=[X_train.shape[1], 3, 1])\n",
    "\n",
    "nn.train(X_train, y_train)"
   ]
  },
  {
   "cell_type": "code",
   "execution_count": null,
   "metadata": {},
   "outputs": [],
   "source": [
    "#Fetching Accuracy on the training set\n",
    "y_predict = nn.predict(np.concatenate((X_train, X_val), axis=0))\n",
    "y_predict\n",
    "print(f\"\\nAccuracy on Train: {accuracy_score(np.concatenate((y_train, y_val), axis=0), y_predict):.5f}\")\n",
    "\n",
    "#Fetching Accuracy on the test set\n",
    "y_predict = nn.predict(X_test)\n",
    "print(f\"Accuracy on Test: {accuracy_score(y_test, y_predict):.5f}\")"
   ]
  },
  {
   "cell_type": "code",
   "execution_count": null,
   "metadata": {},
   "outputs": [],
   "source": []
  }
 ],
 "metadata": {
  "kernelspec": {
   "display_name": "Python 3",
   "language": "python",
   "name": "python3"
  },
  "language_info": {
   "codemirror_mode": {
    "name": "ipython",
    "version": 3
   },
   "file_extension": ".py",
   "mimetype": "text/x-python",
   "name": "python",
   "nbconvert_exporter": "python",
   "pygments_lexer": "ipython3",
   "version": "3.8.3"
  }
 },
 "nbformat": 4,
 "nbformat_minor": 4
}
